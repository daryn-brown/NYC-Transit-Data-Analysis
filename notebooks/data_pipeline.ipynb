{
 "cells": [
  {
   "cell_type": "code",
   "execution_count": 1,
   "id": "d9004e60",
   "metadata": {},
   "outputs": [
    {
     "name": "stdout",
     "output_type": "stream",
     "text": [
      "<pyspark.sql.session.SparkSession object at 0x00000224F87BDE10>\n"
     ]
    }
   ],
   "source": [
    "# Import necessary libraries\n",
    "from pyspark.sql import SparkSession\n",
    "\n",
    "# Create a local SparkSession\n",
    "# This is the entry point to all Spark functionality.\n",
    "# .master(\"local[*]\") tells Spark to use all available cores on your local machine.\n",
    "# .appName(...) gives your application a name.\n",
    "spark = SparkSession.builder \\\n",
    "    .master(\"local[*]\") \\\n",
    "    .appName(\"NYCTransitDataAnalysis\") \\\n",
    "    .getOrCreate()\n",
    "\n",
    "# Print the SparkSession object to confirm it's created\n",
    "print(spark)"
   ]
  }
 ],
 "metadata": {
  "kernelspec": {
   "display_name": "Python 3",
   "language": "python",
   "name": "python3"
  },
  "language_info": {
   "codemirror_mode": {
    "name": "ipython",
    "version": 3
   },
   "file_extension": ".py",
   "mimetype": "text/x-python",
   "name": "python",
   "nbconvert_exporter": "python",
   "pygments_lexer": "ipython3",
   "version": "3.10.6"
  }
 },
 "nbformat": 4,
 "nbformat_minor": 5
}
