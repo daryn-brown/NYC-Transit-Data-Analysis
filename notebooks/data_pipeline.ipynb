{
 "cells": [
  {
   "cell_type": "code",
   "execution_count": 1,
   "id": "d9004e60",
   "metadata": {},
   "outputs": [
    {
     "name": "stdout",
     "output_type": "stream",
     "text": [
      "<pyspark.sql.session.SparkSession object at 0x00000224F87BDE10>\n"
     ]
    }
   ],
   "source": [
    "# Import necessary libraries\n",
    "from pyspark.sql import SparkSession\n",
    "\n",
    "# Create a local SparkSession\n",
    "# This is the entry point to all Spark functionality.\n",
    "# .master(\"local[*]\") tells Spark to use all available cores on your local machine.\n",
    "# .appName(...) gives your application a name.\n",
    "spark = SparkSession.builder \\\n",
    "    .master(\"local[*]\") \\\n",
    "    .appName(\"NYCTransitDataAnalysis\") \\\n",
    "    .getOrCreate()\n",
    "\n",
    "# Print the SparkSession object to confirm it's created\n",
    "print(spark)"
   ]
  },
  {
   "cell_type": "code",
   "execution_count": 7,
   "id": "809d70c3",
   "metadata": {},
   "outputs": [
    {
     "name": "stdout",
     "output_type": "stream",
     "text": [
      "All schemas defined successfully.\n"
     ]
    }
   ],
   "source": [
    "from pyspark.sql.types import StructType, StructField, StringType, IntegerType, LongType, DoubleType, TimestampType\n",
    "\n",
    "# Based on the verified schemas from the Parquet files\n",
    "\n",
    "# Yellow Cab Schema (19 columns)\n",
    "yellow_cab_schema = StructType([\n",
    "    StructField(\"VendorID\", IntegerType(), True),\n",
    "    StructField(\"tpep_pickup_datetime\", TimestampType(), True),\n",
    "    StructField(\"tpep_dropoff_datetime\", TimestampType(), True),\n",
    "    StructField(\"passenger_count\", LongType(), True),\n",
    "    StructField(\"trip_distance\", DoubleType(), True),\n",
    "    StructField(\"RatecodeID\", LongType(), True),\n",
    "    StructField(\"store_and_fwd_flag\", StringType(), True),\n",
    "    StructField(\"PULocationID\", IntegerType(), True),\n",
    "    StructField(\"DOLocationID\", IntegerType(), True),\n",
    "    StructField(\"payment_type\", LongType(), True),\n",
    "    StructField(\"fare_amount\", DoubleType(), True),\n",
    "    StructField(\"extra\", DoubleType(), True),\n",
    "    StructField(\"mta_tax\", DoubleType(), True),\n",
    "    StructField(\"tip_amount\", DoubleType(), True),\n",
    "    StructField(\"tolls_amount\", DoubleType(), True),\n",
    "    StructField(\"improvement_surcharge\", DoubleType(), True),\n",
    "    StructField(\"total_amount\", DoubleType(), True),\n",
    "    StructField(\"congestion_surcharge\", DoubleType(), True),\n",
    "    StructField(\"Airport_fee\", DoubleType(), True)\n",
    "])\n",
    "\n",
    "# Green Cab Schema (20 columns)\n",
    "green_cab_schema = StructType([\n",
    "    StructField(\"VendorID\", IntegerType(), True),\n",
    "    StructField(\"lpep_pickup_datetime\", TimestampType(), True),\n",
    "    StructField(\"lpep_dropoff_datetime\", TimestampType(), True),\n",
    "    StructField(\"store_and_fwd_flag\", StringType(), True),\n",
    "    StructField(\"RatecodeID\", LongType(), True),\n",
    "    StructField(\"PULocationID\", IntegerType(), True),\n",
    "    StructField(\"DOLocationID\", IntegerType(), True),\n",
    "    StructField(\"passenger_count\", LongType(), True),\n",
    "    StructField(\"trip_distance\", DoubleType(), True),\n",
    "    StructField(\"fare_amount\", DoubleType(), True),\n",
    "    StructField(\"extra\", DoubleType(), True),\n",
    "    StructField(\"mta_tax\", DoubleType(), True),\n",
    "    StructField(\"tip_amount\", DoubleType(), True),\n",
    "    StructField(\"tolls_amount\", DoubleType(), True),\n",
    "    StructField(\"ehail_fee\", DoubleType(), True),\n",
    "    StructField(\"improvement_surcharge\", DoubleType(), True),\n",
    "    StructField(\"total_amount\", DoubleType(), True),\n",
    "    StructField(\"payment_type\", LongType(), True),\n",
    "    StructField(\"trip_type\", LongType(), True),\n",
    "    StructField(\"congestion_surcharge\", DoubleType(), True)\n",
    "])\n",
    "\n",
    "# Detailed HVFHV Schema (24 columns)\n",
    "fhvhv_schema = StructType([\n",
    "    StructField(\"hvfhs_license_num\", StringType(), True),\n",
    "    StructField(\"dispatching_base_num\", StringType(), True),\n",
    "    StructField(\"originating_base_num\", StringType(), True),\n",
    "    StructField(\"request_datetime\", TimestampType(), True),\n",
    "    StructField(\"on_scene_datetime\", TimestampType(), True),\n",
    "    StructField(\"pickup_datetime\", TimestampType(), True),\n",
    "    StructField(\"dropoff_datetime\", TimestampType(), True),\n",
    "    StructField(\"PULocationID\", IntegerType(), True),\n",
    "    StructField(\"DOLocationID\", IntegerType(), True),\n",
    "    StructField(\"trip_miles\", DoubleType(), True),\n",
    "    StructField(\"trip_time\", LongType(), True),\n",
    "    StructField(\"base_passenger_fare\", DoubleType(), True),\n",
    "    StructField(\"tolls\", DoubleType(), True),\n",
    "    StructField(\"bcf\", DoubleType(), True),\n",
    "    StructField(\"sales_tax\", DoubleType(), True),\n",
    "    StructField(\"congestion_surcharge\", DoubleType(), True),\n",
    "    StructField(\"airport_fee\", DoubleType(), True),\n",
    "    StructField(\"tips\", DoubleType(), True),\n",
    "    StructField(\"driver_pay\", DoubleType(), True),\n",
    "    StructField(\"shared_request_flag\", StringType(), True),\n",
    "    StructField(\"shared_match_flag\", StringType(), True),\n",
    "    StructField(\"access_a_ride_flag\", StringType(), True),\n",
    "    StructField(\"wav_request_flag\", StringType(), True),\n",
    "    StructField(\"wav_match_flag\", StringType(), True)\n",
    "])\n",
    "\n",
    "print(\"All schemas defined successfully.\")"
   ]
  },
  {
   "cell_type": "code",
   "execution_count": 8,
   "id": "c2eab66f",
   "metadata": {},
   "outputs": [
    {
     "name": "stdout",
     "output_type": "stream",
     "text": [
      "All source data loaded into DataFrames.\n",
      "\n",
      "Yellow Cab DataFrame Schema:\n",
      "root\n",
      " |-- VendorID: integer (nullable = true)\n",
      " |-- tpep_pickup_datetime: timestamp (nullable = true)\n",
      " |-- tpep_dropoff_datetime: timestamp (nullable = true)\n",
      " |-- passenger_count: long (nullable = true)\n",
      " |-- trip_distance: double (nullable = true)\n",
      " |-- RatecodeID: long (nullable = true)\n",
      " |-- store_and_fwd_flag: string (nullable = true)\n",
      " |-- PULocationID: integer (nullable = true)\n",
      " |-- DOLocationID: integer (nullable = true)\n",
      " |-- payment_type: long (nullable = true)\n",
      " |-- fare_amount: double (nullable = true)\n",
      " |-- extra: double (nullable = true)\n",
      " |-- mta_tax: double (nullable = true)\n",
      " |-- tip_amount: double (nullable = true)\n",
      " |-- tolls_amount: double (nullable = true)\n",
      " |-- improvement_surcharge: double (nullable = true)\n",
      " |-- total_amount: double (nullable = true)\n",
      " |-- congestion_surcharge: double (nullable = true)\n",
      " |-- Airport_fee: double (nullable = true)\n",
      "\n"
     ]
    }
   ],
   "source": [
    "# Update these file names to match the files in your /data folder\n",
    "base_path = \"../data/\"\n",
    "yellow_cab_df = spark.read.schema(yellow_cab_schema).parquet(f\"{base_path}yellow_tripdata_2024-01.parquet\")\n",
    "green_cab_df = spark.read.schema(green_cab_schema).parquet(f\"{base_path}green_tripdata_2024-01.parquet\")\n",
    "fhvhv_df = spark.read.schema(fhvhv_schema).parquet(f\"{base_path}fhvhv_tripdata_2024-01.parquet\")\n",
    "\n",
    "print(\"All source data loaded into DataFrames.\")\n",
    "\n",
    "# Verify by checking the schema of one DataFrame\n",
    "print(\"\\nYellow Cab DataFrame Schema:\")\n",
    "yellow_cab_df.printSchema()"
   ]
  }
 ],
 "metadata": {
  "kernelspec": {
   "display_name": "Python 3",
   "language": "python",
   "name": "python3"
  },
  "language_info": {
   "codemirror_mode": {
    "name": "ipython",
    "version": 3
   },
   "file_extension": ".py",
   "mimetype": "text/x-python",
   "name": "python",
   "nbconvert_exporter": "python",
   "pygments_lexer": "ipython3",
   "version": "3.10.6"
  }
 },
 "nbformat": 4,
 "nbformat_minor": 5
}
